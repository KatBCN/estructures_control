{
 "cells": [
  {
   "cell_type": "markdown",
   "id": "8ce64b9b",
   "metadata": {},
   "source": [
    "# <span style=\"color:#d50283\">IT Academy - Data Science Itinerary</span>\n",
    "## Sprint 3 - Control Structures\n",
    "### Assignment by: Kat Weissman"
   ]
  },
  {
   "cell_type": "markdown",
   "id": "1417def2",
   "metadata": {},
   "source": [
    "#### Python Learning Objectives:\n",
    "- Conditionals & Loops\n",
    "- if / elif / else\n",
    "- Functions"
   ]
  },
  {
   "cell_type": "markdown",
   "id": "a21c3d3f",
   "metadata": {},
   "source": [
    "*Recommended learning resources:*\n",
    "- https://www.w3schools.com/python/python_conditions.asp\n",
    "- https://www.programiz.com/python-programming/if-elif-else\n",
    "- https://www.w3schools.com/python/python_functions.asp\n",
    "- https://www.programiz.com/python-programming/input-output-import"
   ]
  },
  {
   "cell_type": "markdown",
   "id": "ed1c34fa",
   "metadata": {},
   "source": [
    "### Exercise 1\n",
    "\n",
    "Create a program that rates a numeric variable based on the Failed / Passed / Notable / Excellent scale."
   ]
  },
  {
   "cell_type": "code",
   "execution_count": 1,
   "id": "754905e6",
   "metadata": {
    "ExecuteTime": {
     "end_time": "2021-08-11T10:35:18.426957Z",
     "start_time": "2021-08-11T10:35:18.414249Z"
    }
   },
   "outputs": [],
   "source": [
    "def rate_grade(grade):\n",
    "    \"\"\"A function that takes a numerical grade as input and returns the rating based on Catalan grading scale.\"\"\"\n",
    "    if grade < 0 or grade > 10:\n",
    "        return (\"Invalid grade\")\n",
    "    elif grade >= 9:\n",
    "        return (\"Excellent\")\n",
    "    elif grade >= 7:\n",
    "        return (\"Notable\")\n",
    "    elif grade >= 5:\n",
    "        return (\"Passed\")\n",
    "    else:\n",
    "        return (\"Failed\")"
   ]
  },
  {
   "cell_type": "code",
   "execution_count": 5,
   "id": "0eb22a57",
   "metadata": {
    "ExecuteTime": {
     "end_time": "2021-08-11T10:44:28.263022Z",
     "start_time": "2021-08-11T10:44:28.257443Z"
    }
   },
   "outputs": [],
   "source": [
    "#Creating a list of sample grades to test the function.\n",
    "gradebook = [5.6, 9.2, 4.3, 7.8, 6.1, 8.9, -1, 10.2]"
   ]
  },
  {
   "cell_type": "code",
   "execution_count": 6,
   "id": "28cba244",
   "metadata": {
    "ExecuteTime": {
     "end_time": "2021-08-11T10:44:29.752081Z",
     "start_time": "2021-08-11T10:44:29.744013Z"
    }
   },
   "outputs": [
    {
     "name": "stdout",
     "output_type": "stream",
     "text": [
      "5.6 Passed\n",
      "9.2 Excellent\n",
      "4.3 Failed\n",
      "7.8 Notable\n",
      "6.1 Passed\n",
      "8.9 Notable\n",
      "-1 Invalid grade\n",
      "10.2 Invalid grade\n"
     ]
    }
   ],
   "source": [
    "#Looping through the list of sample grades and printing the result when the function rate_grade is called.\n",
    "for grade in gradebook:\n",
    "    print(grade, rate_grade(grade))"
   ]
  },
  {
   "cell_type": "markdown",
   "id": "c1001dc4",
   "metadata": {},
   "source": [
    "### Exercise 2\n",
    "\n",
    "Create a program that asks for two numbers. It should show a message saying if the first one is bigger, the second one is bigger or they are the same."
   ]
  },
  {
   "cell_type": "code",
   "execution_count": 7,
   "id": "0ea484be",
   "metadata": {
    "ExecuteTime": {
     "end_time": "2021-08-11T11:05:07.681719Z",
     "start_time": "2021-08-11T11:05:07.673529Z"
    }
   },
   "outputs": [],
   "source": [
    "def compare_numbers():\n",
    "    \"\"\"A function that requests the user to enter two numbers and compares them.\"\"\"\n",
    "    number1 = float(input(\"Enter a number:\"))\n",
    "    number2 = float(input(\"Enter another number:\"))\n",
    "    if number1 == number2:\n",
    "        print(\"The first number is the same as the second number.\")\n",
    "    elif number1 > number2:\n",
    "        print(\"The first number is bigger than the second number.\")\n",
    "    else:\n",
    "        print(\"The second number is bigger than the first number.\")"
   ]
  },
  {
   "cell_type": "markdown",
   "id": "83b72503",
   "metadata": {},
   "source": [
    "I call the function three times with three different test cases, entering a variety of integers, floats, positive, and negative numbers."
   ]
  },
  {
   "cell_type": "code",
   "execution_count": 8,
   "id": "85238ee1",
   "metadata": {
    "ExecuteTime": {
     "end_time": "2021-08-11T11:05:31.661130Z",
     "start_time": "2021-08-11T11:05:21.155779Z"
    },
    "scrolled": true
   },
   "outputs": [
    {
     "name": "stdout",
     "output_type": "stream",
     "text": [
      "Enter a number:57.8\n",
      "Enter another number:32.1\n",
      "The first number is bigger than the second number.\n"
     ]
    }
   ],
   "source": [
    "compare_numbers()"
   ]
  },
  {
   "cell_type": "code",
   "execution_count": 9,
   "id": "5fca5b95",
   "metadata": {
    "ExecuteTime": {
     "end_time": "2021-08-11T11:05:59.245742Z",
     "start_time": "2021-08-11T11:05:43.683434Z"
    }
   },
   "outputs": [
    {
     "name": "stdout",
     "output_type": "stream",
     "text": [
      "Enter a number:10987\n",
      "Enter another number:10987\n",
      "The first number is the same as the second number.\n"
     ]
    }
   ],
   "source": [
    "compare_numbers()"
   ]
  },
  {
   "cell_type": "code",
   "execution_count": 10,
   "id": "df473d19",
   "metadata": {
    "ExecuteTime": {
     "end_time": "2021-08-11T11:06:30.446124Z",
     "start_time": "2021-08-11T11:06:17.554229Z"
    }
   },
   "outputs": [
    {
     "name": "stdout",
     "output_type": "stream",
     "text": [
      "Enter a number:-897\n",
      "Enter another number:-78\n",
      "The second number is bigger than the first number.\n"
     ]
    }
   ],
   "source": [
    "compare_numbers()"
   ]
  },
  {
   "cell_type": "markdown",
   "id": "925a484b",
   "metadata": {},
   "source": [
    "### Exercise 3\n",
    "Create a program that asks the user for a name and number. If the number is 0, it should display an error message. Otherwise, it should display the repeated name as many times as the number indicates. For example, “Joan Joan Joan”."
   ]
  },
  {
   "cell_type": "code",
   "execution_count": 29,
   "id": "8a79d346",
   "metadata": {
    "ExecuteTime": {
     "end_time": "2021-08-11T11:28:16.771553Z",
     "start_time": "2021-08-11T11:28:16.764636Z"
    }
   },
   "outputs": [],
   "source": [
    "def repeat_name():\n",
    "    \"\"\"A function that requests the user to input their name, and then input a number.\n",
    "    The name is displayed repeatedly for the number of times the user indicates.\"\"\"\n",
    "    name = input(\"Enter your first name:\")\n",
    "    #float is used to accept the user input for a number\n",
    "    number = float(input(\"Enter a number:\"))\n",
    "    while number <= 0:\n",
    "        number = float(input(\"Please enter a positive number greater than zero:\"))\n",
    "    #The float is converted to an int for multiplication of the string\n",
    "    number = int(number)\n",
    "    print((name + \" \")*number)\n",
    "    "
   ]
  },
  {
   "cell_type": "markdown",
   "id": "70ed806e",
   "metadata": {},
   "source": [
    "I call the function three times with three different test cases, entering a variety of integers, floats, zero, positive, and negative numbers."
   ]
  },
  {
   "cell_type": "code",
   "execution_count": 30,
   "id": "1ed3fe89",
   "metadata": {
    "ExecuteTime": {
     "end_time": "2021-08-11T11:28:22.320092Z",
     "start_time": "2021-08-11T11:28:18.653541Z"
    },
    "scrolled": true
   },
   "outputs": [
    {
     "name": "stdout",
     "output_type": "stream",
     "text": [
      "Enter your first name:Kat\n",
      "Enter a number:5\n",
      "Kat Kat Kat Kat Kat \n"
     ]
    }
   ],
   "source": [
    "repeat_name()"
   ]
  },
  {
   "cell_type": "code",
   "execution_count": 31,
   "id": "9f114fcb",
   "metadata": {
    "ExecuteTime": {
     "end_time": "2021-08-11T11:28:37.973636Z",
     "start_time": "2021-08-11T11:28:25.623867Z"
    }
   },
   "outputs": [
    {
     "name": "stdout",
     "output_type": "stream",
     "text": [
      "Enter your first name:Marc\n",
      "Enter a number:0\n",
      "Please enter a positive number greater than zero:3\n",
      "Marc Marc Marc \n"
     ]
    }
   ],
   "source": [
    "repeat_name()"
   ]
  },
  {
   "cell_type": "code",
   "execution_count": 32,
   "id": "abfe3f32",
   "metadata": {
    "ExecuteTime": {
     "end_time": "2021-08-11T11:28:51.861249Z",
     "start_time": "2021-08-11T11:28:40.240530Z"
    }
   },
   "outputs": [
    {
     "name": "stdout",
     "output_type": "stream",
     "text": [
      "Enter your first name:Logan\n",
      "Enter a number:-9\n",
      "Please enter a positive number greater than zero:9.4\n",
      "Logan Logan Logan Logan Logan Logan Logan Logan Logan \n"
     ]
    }
   ],
   "source": [
    "repeat_name()"
   ]
  },
  {
   "cell_type": "markdown",
   "id": "d5179d95",
   "metadata": {},
   "source": [
    "### Exercise 4\n",
    "Create a program that given any list, tells the user if it is symmetrical or not. If so, tell the user how many items it has."
   ]
  },
  {
   "cell_type": "code",
   "execution_count": 62,
   "id": "74ed34ec",
   "metadata": {
    "ExecuteTime": {
     "end_time": "2021-08-11T12:06:08.831566Z",
     "start_time": "2021-08-11T12:06:08.826133Z"
    }
   },
   "outputs": [],
   "source": [
    "def is_symmetric(userList):\n",
    "    \"\"\"A function that takes a user's list as input and reports whether or not the list is symmetric.\n",
    "    If symmetric, it also states the number of items in the list.\"\"\"\n",
    "    #creating a copy of the user's list and reversing it for comparison to the original\n",
    "    reverseList = userList.copy()\n",
    "    reverseList.reverse()\n",
    "    if userList == reverseList:\n",
    "        print(\"The list is symmetric, and it has\", len(userList), \"items.\")\n",
    "    else:\n",
    "        print(\"The list is not symmetric.\")"
   ]
  },
  {
   "cell_type": "code",
   "execution_count": 63,
   "id": "2ca3c9b6",
   "metadata": {
    "ExecuteTime": {
     "end_time": "2021-08-11T12:06:10.843833Z",
     "start_time": "2021-08-11T12:06:10.832516Z"
    }
   },
   "outputs": [],
   "source": [
    "#Creating test lists for the function is_symmetric\n",
    "testList1 = [\"banana\", \"apple\", \"peach\", \"pear\"]\n",
    "testList2 = [\"banana\", \"apple\", \"peach\", \"pear\", \"peach\", \"apple\", \"banana\"]\n",
    "testList3 = [2.4, 5, \"dog\", 7.4, 7.4, \"dog\", 5, 2.4]\n",
    "testList4 = [3.4, 2, 9, 8.6]"
   ]
  },
  {
   "cell_type": "code",
   "execution_count": 64,
   "id": "7450f414",
   "metadata": {
    "ExecuteTime": {
     "end_time": "2021-08-11T12:06:13.246936Z",
     "start_time": "2021-08-11T12:06:13.239160Z"
    }
   },
   "outputs": [
    {
     "name": "stdout",
     "output_type": "stream",
     "text": [
      "The list is not symmetric.\n",
      "The list is symmetric, and it has 7 items.\n",
      "The list is symmetric, and it has 8 items.\n",
      "The list is not symmetric.\n"
     ]
    }
   ],
   "source": [
    "#calling the function is_symmetric on each test list.\n",
    "is_symmetric(testList1)\n",
    "is_symmetric(testList2)\n",
    "is_symmetric(testList3)\n",
    "is_symmetric(testList4)"
   ]
  },
  {
   "cell_type": "markdown",
   "id": "f306035f",
   "metadata": {},
   "source": [
    "### Exercise 5\n",
    "Create a program that given a list, tells the user how many numbers match thier position. For example, in the list [3,4,2,0,2,3,6], numbers 2 and 6 coincide."
   ]
  },
  {
   "cell_type": "code",
   "execution_count": 68,
   "id": "e9f6a108",
   "metadata": {
    "ExecuteTime": {
     "end_time": "2021-08-11T12:14:36.978299Z",
     "start_time": "2021-08-11T12:14:36.972883Z"
    }
   },
   "outputs": [],
   "source": [
    "def matches_index(list):\n",
    "    \"\"\"A function that tells the user how many numbers in the list match their index position\"\"\"\n",
    "    counter = 0\n",
    "    for i in range(len(list)):\n",
    "        if list[i] == i:\n",
    "            counter += 1\n",
    "    print (counter, \"numbers match their position in the list.\")"
   ]
  },
  {
   "cell_type": "code",
   "execution_count": 69,
   "id": "c5ec329e",
   "metadata": {
    "ExecuteTime": {
     "end_time": "2021-08-11T12:14:39.369781Z",
     "start_time": "2021-08-11T12:14:39.363939Z"
    }
   },
   "outputs": [],
   "source": [
    "#Creating test lists for the function matches_index\n",
    "numList1 = [3,4,2,0,2,3,6]\n",
    "numList2 = [0,1,2,3,4,5]\n",
    "mixList1 = [\"cat\", \"dog\", 2.4, 3, \"bird\", 5, 7.5]\n",
    "mixList2 = [\"Kat\", \"Marc\", \"Logan\", 3.2, 4.1, 5.6, 6]"
   ]
  },
  {
   "cell_type": "code",
   "execution_count": 70,
   "id": "facd74b3",
   "metadata": {
    "ExecuteTime": {
     "end_time": "2021-08-11T12:15:04.173548Z",
     "start_time": "2021-08-11T12:15:04.166066Z"
    }
   },
   "outputs": [
    {
     "name": "stdout",
     "output_type": "stream",
     "text": [
      "2 numbers match their position in the list.\n",
      "6 numbers match their position in the list.\n",
      "2 numbers match their position in the list.\n",
      "1 numbers match their position in the list.\n"
     ]
    }
   ],
   "source": [
    "#calling the function matches_index on each test list.\n",
    "matches_index(numList1)\n",
    "matches_index(numList2)\n",
    "matches_index(mixList1)\n",
    "matches_index(mixList2)"
   ]
  }
 ],
 "metadata": {
  "kernelspec": {
   "display_name": "Python 3",
   "language": "python",
   "name": "python3"
  },
  "language_info": {
   "codemirror_mode": {
    "name": "ipython",
    "version": 3
   },
   "file_extension": ".py",
   "mimetype": "text/x-python",
   "name": "python",
   "nbconvert_exporter": "python",
   "pygments_lexer": "ipython3",
   "version": "3.8.8"
  },
  "nbTranslate": {
   "displayLangs": [
    "es",
    "en"
   ],
   "hotkey": "alt-t",
   "langInMainMenu": true,
   "sourceLang": "en",
   "targetLang": "es",
   "useGoogleTranslate": true
  },
  "varInspector": {
   "cols": {
    "lenName": 16,
    "lenType": 16,
    "lenVar": 40
   },
   "kernels_config": {
    "python": {
     "delete_cmd_postfix": "",
     "delete_cmd_prefix": "del ",
     "library": "var_list.py",
     "varRefreshCmd": "print(var_dic_list())"
    },
    "r": {
     "delete_cmd_postfix": ") ",
     "delete_cmd_prefix": "rm(",
     "library": "var_list.r",
     "varRefreshCmd": "cat(var_dic_list()) "
    }
   },
   "types_to_exclude": [
    "module",
    "function",
    "builtin_function_or_method",
    "instance",
    "_Feature"
   ],
   "window_display": false
  }
 },
 "nbformat": 4,
 "nbformat_minor": 5
}
